
# Graph Analysis Task.ipynb

This notebook contains Python code to analyze a given graph. It calculates and displays:
- Adjacency and incidence matrices
- The total number of edges
- Number of edges connected with each node
- Nodes with maximum and minimum edges
- Nodes with equal numbers of edges
- The shortest path matrix
- The minimum spanning tree matrix

## Code Execution

Each of these calculations is completed based on the graph structure provided by the user. The provided code can be used for any undirected graph structure by modifying the `edges` list in the code cell.

---

All results are displayed for user analysis in the corresponding cells.
