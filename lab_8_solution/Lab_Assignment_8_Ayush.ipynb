{
 "cells": [
  {
   "cell_type": "markdown",
   "id": "3cec4e49",
   "metadata": {},
   "source": [
    "# Lab Assignment 8 - Graph Matrices and Operations\n",
    "\n",
    "This notebook addresses the tasks given in Lab Assignment 8 for the course Foundation of Data Science.\n",
    "\n",
    "## Tasks\n",
    "1. Write Python code to create the incidence and adjacency matrices for a given graph.\n",
    "2. Display the total number of edges.\n",
    "3. Display the number of edges connected with each node.\n",
    "4. Identify nodes with maximum and minimum edges.\n",
    "5. Find nodes with equal number of edges.\n",
    "6. Calculate and display the shortest path between nodes.\n",
    "7. Compute and display the minimum spanning tree.\n",
    "\n",
    "First, we will define the graph for which we need to perform these operations."
   ]
  },
  {
   "cell_type": "code",
   "execution_count": 22,
   "id": "c3f5b599",
   "metadata": {},
   "outputs": [],
   "source": [
    "graph = {\n",
    "    'A': ['B', 'C'],\n",
    "    'B': ['A', 'C', 'D'],\n",
    "    'C': ['A', 'B', 'E'],\n",
    "    'D': ['B', 'E'],\n",
    "    'E': ['C', 'D'],\n",
    "}"
   ]
  },
  {
   "cell_type": "code",
   "execution_count": 23,
   "id": "2a7951aa",
   "metadata": {},
   "outputs": [],
   "source": [
    "def adjacency_matrix(graph):\n",
    "    nodes = list(graph.keys())\n",
    "    size = len(nodes)\n",
    "    matrix = [[0]*size for _ in range(size)]\n",
    "    node_index = {node: idx for idx, node in enumerate(nodes)}\n",
    "    \n",
    "    for node, adjacents in graph.items():\n",
    "        for adjacent in adjacents:\n",
    "            matrix[node_index[node]][node_index[adjacent]] = 1\n",
    "    return matrix"
   ]
  },
  {
   "cell_type": "code",
   "execution_count": 24,
   "id": "061f9cfa",
   "metadata": {},
   "outputs": [],
   "source": [
    "def incidence_matrix(graph):\n",
    "    nodes = list(graph.keys())\n",
    "    edges = set()\n",
    "    for node, adjacents in graph.items():\n",
    "        for adjacent in adjacents:\n",
    "            edges.add(tuple(sorted([node, adjacent])))\n",
    "    edges = list(edges)\n",
    "    size_nodes = len(nodes)\n",
    "    size_edges = len(edges)\n",
    "    matrix = [[0]*size_edges for _ in range(size_nodes)]\n",
    "    node_index = {node: idx for idx, node in enumerate(nodes)}\n",
    "    edge_index = {edge: idx for idx, edge in enumerate(edges)}\n",
    "    \n",
    "    for node, adjacents in graph.items():\n",
    "        for adjacent in adjacents:\n",
    "            edge = tuple(sorted([node, adjacent]))\n",
    "            matrix[node_index[node]][edge_index[edge]] = 1\n",
    "    return matrix"
   ]
  },
  {
   "cell_type": "code",
   "execution_count": 25,
   "id": "585dcea0",
   "metadata": {},
   "outputs": [],
   "source": [
    "adj_matrix = adjacency_matrix(graph)\n",
    "inc_matrix = incidence_matrix(graph)"
   ]
  },
  {
   "cell_type": "code",
   "execution_count": 26,
   "id": "6cf179e9",
   "metadata": {},
   "outputs": [],
   "source": [
    "total_edges = len(inc_matrix[0])"
   ]
  },
  {
   "cell_type": "code",
   "execution_count": 27,
   "id": "a0cabc13",
   "metadata": {},
   "outputs": [
    {
     "name": "stdout",
     "output_type": "stream",
     "text": [
      "Adjacency Matrix:\n",
      "[0, 1, 1, 0, 0]\n",
      "[1, 0, 1, 1, 0]\n",
      "[1, 1, 0, 0, 1]\n",
      "[0, 1, 0, 0, 1]\n",
      "[0, 0, 1, 1, 0]\n",
      "\n",
      "Incidence Matrix:\n",
      "[1, 1, 0, 0, 0, 0]\n",
      "[1, 0, 1, 0, 0, 1]\n",
      "[0, 1, 0, 1, 0, 1]\n",
      "[0, 0, 1, 0, 1, 0]\n",
      "[0, 0, 0, 1, 1, 0]\n",
      "\n",
      "Total number of edges: 6\n"
     ]
    }
   ],
   "source": [
    "print(\"Adjacency Matrix:\")\n",
    "for row in adj_matrix:\n",
    "    print(row)\n",
    "print(\"\\nIncidence Matrix:\")\n",
    "for row in inc_matrix:\n",
    "    print(row)\n",
    "print(\"\\nTotal number of edges:\", total_edges)"
   ]
  },
  {
   "cell_type": "code",
   "execution_count": 28,
   "id": "a2597e52",
   "metadata": {},
   "outputs": [
    {
     "name": "stdout",
     "output_type": "stream",
     "text": [
      "Node A has 2 edges.\n",
      "Node B has 3 edges.\n",
      "Node C has 3 edges.\n",
      "Node D has 2 edges.\n",
      "Node E has 2 edges.\n"
     ]
    }
   ],
   "source": [
    "degrees = [sum(row) for row in adj_matrix]\n",
    "nodes = list(graph.keys())\n",
    "node_index = {node: idx for idx, node in enumerate(nodes)}\n",
    "size = len(nodes)\n",
    "\n",
    "for node, degree in zip(nodes, degrees):\n",
    "    print(f\"Node {node} has {degree} edges.\")"
   ]
  },
  {
   "cell_type": "code",
   "execution_count": 29,
   "id": "c63ae1e9",
   "metadata": {},
   "outputs": [
    {
     "name": "stdout",
     "output_type": "stream",
     "text": [
      "Nodes with maximum edges: ['B', 'C']\n",
      "Nodes with minimum edges: ['A', 'D', 'E']\n"
     ]
    }
   ],
   "source": [
    "max_degree = max(degrees)\n",
    "min_degree = min(degrees)\n",
    "max_nodes = [node for node, degree in zip(nodes, degrees) if degree == max_degree]\n",
    "min_nodes = [node for node, degree in zip(nodes, degrees) if degree == min_degree]\n",
    "\n",
    "print(\"Nodes with maximum edges:\", max_nodes)\n",
    "print(\"Nodes with minimum edges:\", min_nodes)"
   ]
  },
  {
   "cell_type": "code",
   "execution_count": 30,
   "id": "34327c29",
   "metadata": {},
   "outputs": [
    {
     "name": "stdout",
     "output_type": "stream",
     "text": [
      "Nodes with 2 edges: ['A', 'D', 'E']\n",
      "Nodes with 3 edges: ['B', 'C']\n"
     ]
    }
   ],
   "source": [
    "equal_edge_nodes = {}\n",
    "for node, degree in zip(nodes, degrees):\n",
    "    if degree not in equal_edge_nodes:\n",
    "        equal_edge_nodes[degree] = []\n",
    "    equal_edge_nodes[degree].append(node)\n",
    "\n",
    "for degree, node_list in equal_edge_nodes.items():\n",
    "    if len(node_list) > 1:\n",
    "        print(f\"Nodes with {degree} edges: {node_list}\")"
   ]
  },
  {
   "cell_type": "code",
   "execution_count": 31,
   "id": "6f3b887d",
   "metadata": {},
   "outputs": [],
   "source": [
    "def dijkstra(start, target):\n",
    "    unvisited = set(nodes)\n",
    "    shortest_path = {node: float('inf') for node in nodes}\n",
    "    shortest_path[start] = 0\n",
    "    current_node = start\n",
    "    while unvisited:\n",
    "        current_node = min(unvisited, key=lambda node: shortest_path[node])\n",
    "        unvisited.remove(current_node)\n",
    "        for idx, connected in enumerate(adj_matrix[node_index[current_node]]):\n",
    "            if connected and nodes[idx] in unvisited:\n",
    "                distance = shortest_path[current_node] + 1 \n",
    "                if distance < shortest_path[nodes[idx]]:\n",
    "                    shortest_path[nodes[idx]] = distance\n",
    "        if current_node == target:\n",
    "            break\n",
    "    return shortest_path[target]"
   ]
  },
  {
   "cell_type": "code",
   "execution_count": 32,
   "id": "795351ab",
   "metadata": {},
   "outputs": [
    {
     "name": "stdout",
     "output_type": "stream",
     "text": [
      "Shortest path from A to E: 2\n"
     ]
    }
   ],
   "source": [
    "print(\"Shortest path from A to E:\", dijkstra('A', 'E'))"
   ]
  },
  {
   "cell_type": "code",
   "execution_count": 33,
   "id": "3404eacc",
   "metadata": {},
   "outputs": [],
   "source": [
    "def prim():\n",
    "    in_tree = {node: False for node in nodes}\n",
    "    min_edge = {node: float('inf') for node in nodes}\n",
    "    parent = {node: None for node in nodes}\n",
    "    min_edge[nodes[0]] = 0\n",
    "    mst_edges = []\n",
    "    \n",
    "    while len(mst_edges) < size - 1:\n",
    "        u = min((node for node in nodes if not in_tree[node]), key=lambda node: min_edge[node])\n",
    "        in_tree[u] = True\n",
    "        if parent[u]:\n",
    "            mst_edges.append((parent[u], u))\n",
    "        \n",
    "        for v in nodes:\n",
    "            if adj_matrix[node_index[u]][node_index[v]] and not in_tree[v] and adj_matrix[node_index[u]][node_index[v]] < min_edge[v]:\n",
    "                min_edge[v] = adj_matrix[node_index[u]][node_index[v]]\n",
    "                parent[v] = u\n",
    "\n",
    "    return mst_edges"
   ]
  },
  {
   "cell_type": "code",
   "execution_count": 34,
   "id": "d991926e",
   "metadata": {},
   "outputs": [
    {
     "name": "stdout",
     "output_type": "stream",
     "text": [
      "Minimum spanning tree: [('A', 'B'), ('A', 'C'), ('B', 'D'), ('C', 'E')]\n"
     ]
    }
   ],
   "source": [
    "print(\"Minimum spanning tree:\", prim())"
   ]
  }
 ],
 "metadata": {
  "kernelspec": {
   "display_name": "Python 3",
   "language": "python",
   "name": "python3"
  },
  "language_info": {
   "codemirror_mode": {
    "name": "ipython",
    "version": 3
   },
   "file_extension": ".py",
   "mimetype": "text/x-python",
   "name": "python",
   "nbconvert_exporter": "python",
   "pygments_lexer": "ipython3",
   "version": "3.12.2"
  }
 },
 "nbformat": 4,
 "nbformat_minor": 5
}
