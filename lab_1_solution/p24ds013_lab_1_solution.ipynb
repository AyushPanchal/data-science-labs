{
 "cells": [
  {
   "cell_type": "markdown",
   "id": "3d49f412-cc7a-4e2d-8d09-fed2ed679cdc",
   "metadata": {},
   "source": [
    "# FDS Lab assignment - 1"
   ]
  },
  {
   "cell_type": "markdown",
   "id": "1e60ee6b-ec8a-477e-b6d4-705bf51b3652",
   "metadata": {},
   "source": [
    "Name : `Ayush Panchal`\n",
    "\n",
    "Roll No : `P24DS013`"
   ]
  },
  {
   "cell_type": "markdown",
   "id": "3234e6be-b27c-4463-b52a-82f612cae4bd",
   "metadata": {},
   "source": [
    "# Versions of modules installed"
   ]
  },
  {
   "cell_type": "code",
   "execution_count": 1,
   "id": "275a182c-0141-44fb-83fc-f35330259166",
   "metadata": {},
   "outputs": [
    {
     "name": "stdout",
     "output_type": "stream",
     "text": [
      "Python 3.12.2\n"
     ]
    }
   ],
   "source": [
    "!python --version"
   ]
  },
  {
   "cell_type": "code",
   "execution_count": 2,
   "id": "5cf10319-3ed6-4d1b-a1bb-020854fb5011",
   "metadata": {},
   "outputs": [],
   "source": [
    "import nltk as nlt\n",
    "import numpy as np\n",
    "import scipy as sp\n",
    "import pandas as pd\n",
    "import matplotlib as mlt\n",
    "import seaborn as sns\n",
    "import sklearn\n",
    "import plotly"
   ]
  },
  {
   "cell_type": "code",
   "execution_count": 4,
   "id": "2611e92f-401a-403f-99fc-28ca4122c990",
   "metadata": {},
   "outputs": [
    {
     "name": "stdout",
     "output_type": "stream",
     "text": [
      "NLTK Version : 3.9.1\n",
      "Scipy Version : 1.14.1\n",
      "Pandas Version : 2.2.2\n",
      "Numpy Version : 1.26.4\n",
      "Matplotlib Version : 3.9.2\n",
      "Seaborn Version : 0.13.2\n",
      "Scikit-learn Version : 1.5.1\n",
      "Plotly Version : 5.23.0\n"
     ]
    }
   ],
   "source": [
    "print(f\"NLTK Version : {nlt.__version__}\")\n",
    "print(f\"Scipy Version : {sp.__version__}\")\n",
    "print(f\"Pandas Version : {pd.__version__}\")\n",
    "print(f\"Numpy Version : {np.__version__}\")\n",
    "print(f\"Matplotlib Version : {mlt.__version__}\")\n",
    "print(f\"Seaborn Version : {sns.__version__}\")\n",
    "print(f\"Scikit-learn Version : {sklearn.__version__}\")\n",
    "print(f\"Plotly Version : {plotly.__version__}\")"
   ]
  },
  {
   "cell_type": "markdown",
   "id": "f295aa1a-7602-4455-999f-23f9592c85bc",
   "metadata": {},
   "source": [
    "# NLTK Utilities and usage"
   ]
  },
  {
   "cell_type": "markdown",
   "id": "7399241e-2549-4fa3-bb3b-079e0f706ec7",
   "metadata": {},
   "source": [
    "## Utility: \n",
    "Provides a collection of text processing tools and corpora for tasks like tokenization, stemming, tagging, parsing, and semantic reasoning.\n",
    "## Use Cases:\n",
    "* Text classification (e.g., spam filtering, sentiment analysis)\n",
    "* Information extraction (e.g., named entity recognition, relationship extraction)\n",
    "* Machine translation\n",
    "* Question answering\n",
    "* Text summarization"
   ]
  },
  {
   "cell_type": "markdown",
   "id": "2b857ccf-1104-4ddc-b70a-721f721fc256",
   "metadata": {},
   "source": [
    "# NumPy (Numerical Python)\n",
    "\n",
    "## Utility: \n",
    "Fundamental package for scientific computing, providing multi-dimensional arrays and matrices, along with mathematical functions to operate on them efficiently.\n",
    "## Use Cases:\n",
    "* Linear algebra operations\n",
    "* Fourier transforms\n",
    "* Random number generation\n",
    "* Data manipulation and analysis\n",
    "* Scientific simulations"
   ]
  },
  {
   "cell_type": "markdown",
   "id": "335cfd35-1d5b-4732-9d96-eca389279a71",
   "metadata": {},
   "source": [
    "# Pandas\n",
    "\n",
    "## Utility: \n",
    "Provides high-performance data structures (Series and DataFrame) and data analysis tools for handling and manipulating structured data.\n",
    "## Use Cases:\n",
    "* Data cleaning and preprocessing\n",
    "* Data exploration and analysis\n",
    "* Data visualization\n",
    "* Data manipulation and transformation"
   ]
  },
  {
   "cell_type": "markdown",
   "id": "4c68b99b-bff8-4b79-8926-8b71f0125fbf",
   "metadata": {},
   "source": [
    "# SciPy\n",
    "\n",
    "## Utility: \n",
    "Built on NumPy, SciPy offers a collection of algorithms for optimization, integration, interpolation, linear algebra, and more.\n",
    "## Use Cases:\n",
    "* Scientific and technical computing\n",
    "* Signal processing\n",
    "* Image processing\n",
    "* Optimization and root-finding\n",
    "* Statistical analysis"
   ]
  },
  {
   "cell_type": "markdown",
   "id": "559aaf89-127f-4f66-b1a8-b8ccff3028d2",
   "metadata": {},
   "source": [
    "# Matplotlib\n",
    "\n",
    "## Utility:\n",
    "Matplotlib is a comprehensive library for creating static, animated, and interactive visualizations in Python. It provides a range of tools to generate various types of plots and charts.\n",
    "\n",
    "## Use Cases:\n",
    "* Data visualization and exploration\n",
    "* Creating static, animated, and interactive plots\n",
    "* Generating line plots, scatter plots, bar charts, histograms, and more\n",
    "* Customizing plot appearance with colors, labels, and legends\n",
    "* Creating publication-quality graphics and visualizations"
   ]
  },
  {
   "cell_type": "markdown",
   "id": "00b85e0e",
   "metadata": {},
   "source": [
    "# Scikit-learn (sklearn)\n",
    "\n",
    "## Utility:\n",
    "Scikit-learn is a powerful Python library for machine learning and data mining. It provides simple and efficient tools for data analysis and modeling, including classification, regression, clustering, and dimensionality reduction algorithms.\n",
    "\n",
    "## Use Cases:\n",
    "* Machine learning model development and evaluation\n",
    "* Supervised learning (e.g., classification and regression)\n",
    "* Unsupervised learning (e.g., clustering and dimensionality reduction)\n",
    "* Feature selection and extraction\n",
    "* Model evaluation and validation techniques (e.g., cross-validation)\n",
    "* Pipelines for automated workflows and preprocessing"
   ]
  },
  {
   "cell_type": "markdown",
   "id": "be879dff",
   "metadata": {},
   "source": [
    "# Plotly\n",
    "\n",
    "## Utility:\n",
    "Plotly is an interactive graphing library that makes creating data visualizations easy, offering support for a wide variety of chart types. It integrates well with Python, R, and other programming languages and provides rich visualizations with interactivity.\n",
    "\n",
    "Use Cases:\n",
    "\n",
    "* Creating interactive dashboards and web applications\n",
    "* Plotting data with complex 3D and 2D visualizations\n",
    "* Visualizing geospatial data (e.g., choropleth maps)\n",
    "* Performing real-time data analysis with streaming data visualizations\n",
    "* Enhancing business reports with interactive charts"
   ]
  },
  {
   "cell_type": "markdown",
   "id": "04c7c446",
   "metadata": {},
   "source": [
    "# Seaborn\n",
    "\n",
    "## Utility:\n",
    "Seaborn is a Python data visualization library built on top of Matplotlib, designed for making attractive and informative statistical graphics. It simplifies the process of creating complex visualizations like categorical plots, distribution plots, and regression plots.\n",
    "\n",
    "## Use Cases:\n",
    "\n",
    "* Exploring and visualizing data distributions\n",
    "* Creating pair plots and multi-plot grids to visualize relationships between multiple variables\n",
    "* Enhancing statistical analysis with visual aids such as correlation heatmaps\n",
    "* Plotting time series data for trend analysis\n",
    "* Styling plots with built-in themes for consistency and clarity"
   ]
  },
  {
   "cell_type": "markdown",
   "id": "7735723b",
   "metadata": {},
   "source": []
  }
 ],
 "metadata": {
  "kernelspec": {
   "display_name": "Python 3 (ipykernel)",
   "language": "python",
   "name": "python3"
  },
  "language_info": {
   "codemirror_mode": {
    "name": "ipython",
    "version": 3
   },
   "file_extension": ".py",
   "mimetype": "text/x-python",
   "name": "python",
   "nbconvert_exporter": "python",
   "pygments_lexer": "ipython3",
   "version": "3.12.2"
  },
  "widgets": {
   "application/vnd.jupyter.widget-state+json": {
    "state": {},
    "version_major": 2,
    "version_minor": 0
   }
  }
 },
 "nbformat": 4,
 "nbformat_minor": 5
}
