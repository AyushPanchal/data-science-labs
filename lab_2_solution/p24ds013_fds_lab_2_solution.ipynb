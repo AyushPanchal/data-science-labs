{
 "cells": [
  {
   "cell_type": "markdown",
   "metadata": {},
   "source": [
    "# FDS Lab-2 Assignment"
   ]
  },
  {
   "cell_type": "markdown",
   "metadata": {},
   "source": [
    "##### `Name` : `Ayush Panchal`\n",
    "##### `Roll No.` : `P24DS013`"
   ]
  },
  {
   "cell_type": "markdown",
   "metadata": {},
   "source": [
    "## 1. Create arrays of one 1D with 20 numbers and one 2D of 10 x 10. Assign random numbers between 1 to 100 to the matrix"
   ]
  },
  {
   "cell_type": "code",
   "execution_count": 1,
   "metadata": {},
   "outputs": [],
   "source": [
    "size_1d = 20\n",
    "size_2d = [10, 10]"
   ]
  },
  {
   "cell_type": "markdown",
   "metadata": {},
   "source": [
    "Linear Congruential Generator formula: `X_{n+1} = (a * X_n + c) % m`"
   ]
  },
  {
   "cell_type": "code",
   "execution_count": 2,
   "metadata": {},
   "outputs": [],
   "source": [
    "class SimpleRandom:\n",
    "    def __init__(self, seed=1):\n",
    "        self.modulus = 2**31 - 1 \n",
    "\n",
    "        # Multiplier. 48271 best for generating good randomness\n",
    "        self.a = 48271           \n",
    "\n",
    "        # Increment  \n",
    "        self.c = 0                \n",
    "        \n",
    "        # Seed or initial state\n",
    "        self.state = seed          \n",
    "\n",
    "    def random(self):\n",
    "        self.state = (self.a * self.state + self.c) % self.modulus\n",
    "        # Scale the result to the range [0, 100]\n",
    "        return int((self.state / self.modulus) * 100)"
   ]
  },
  {
   "cell_type": "code",
   "execution_count": 3,
   "metadata": {},
   "outputs": [
    {
     "data": {
      "text/plain": [
       "[3, 80, 56, 18, 34, 18, 80, 50, 79, 55, 38, 92, 72, 72, 83, 5, 37, 84, 36, 38]"
      ]
     },
     "execution_count": 3,
     "metadata": {},
     "output_type": "execute_result"
    }
   ],
   "source": [
    "one_d_array = []\n",
    "\n",
    "random_num = SimpleRandom(seed=1456)\n",
    "for i in range(size_1d):\n",
    "    one_d_array.append(random_num.random())\n",
    "\n",
    "one_d_array"
   ]
  },
  {
   "cell_type": "code",
   "execution_count": 4,
   "metadata": {},
   "outputs": [
    {
     "data": {
      "text/plain": [
       "[[27, 16, 44, 91, 85, 77, 53, 59, 75, 19],\n",
       " [40, 21, 25, 96, 94, 89, 35, 77, 69, 11],\n",
       " [70, 88, 14, 75, 51, 85, 66, 9, 65, 38],\n",
       " [85, 81, 13, 50, 47, 55, 94, 46, 2, 25],\n",
       " [74, 22, 98, 41, 11, 57, 62, 79, 26, 24],\n",
       " [89, 81, 57, 78, 86, 82, 23, 68, 12, 15],\n",
       " [83, 81, 78, 86, 22, 37, 29, 86, 77, 60],\n",
       " [85, 11, 22, 74, 53, 85, 14, 13, 39, 20],\n",
       " [65, 45, 55, 68, 75, 56, 55, 46, 65, 45],\n",
       " [58, 97, 69, 54, 67, 11, 16, 90, 52, 12]]"
      ]
     },
     "execution_count": 4,
     "metadata": {},
     "output_type": "execute_result"
    }
   ],
   "source": [
    "two_d_array = []\n",
    "\n",
    "random = SimpleRandom(seed=12456)\n",
    "for i in range(size_2d[0]):\n",
    "    \n",
    "    temp_arr = []\n",
    "    for j in range(size_2d[1]):\n",
    "        temp_arr.append(random.random())\n",
    "    two_d_array.append(temp_arr)\n",
    "\n",
    "two_d_array"
   ]
  },
  {
   "cell_type": "markdown",
   "metadata": {},
   "source": [
    "## 2. Display the total number of elements in both arrays."
   ]
  },
  {
   "cell_type": "code",
   "execution_count": 5,
   "metadata": {},
   "outputs": [
    {
     "data": {
      "text/plain": [
       "'Total Numbers of element in 1D Array = 20'"
      ]
     },
     "execution_count": 5,
     "metadata": {},
     "output_type": "execute_result"
    }
   ],
   "source": [
    "count = 0\n",
    "for i in one_d_array:\n",
    "    count+=1\n",
    "\n",
    "f\"Total Numbers of element in 1D Array = {count}\""
   ]
  },
  {
   "cell_type": "code",
   "execution_count": 6,
   "metadata": {},
   "outputs": [
    {
     "data": {
      "text/plain": [
       "'Total Numbers of element in 2D Array = 100'"
      ]
     },
     "execution_count": 6,
     "metadata": {},
     "output_type": "execute_result"
    }
   ],
   "source": [
    "count = 0\n",
    "for i in two_d_array:\n",
    "    for j in i:\n",
    "        count += 1\n",
    "f\"Total Numbers of element in 2D Array = {count}\""
   ]
  },
  {
   "cell_type": "markdown",
   "metadata": {},
   "source": [
    "## 3. Sort the numbers in ascending order for both arrays."
   ]
  },
  {
   "cell_type": "code",
   "execution_count": 7,
   "metadata": {},
   "outputs": [
    {
     "name": "stdout",
     "output_type": "stream",
     "text": [
      "Sorted array: [1, 5, 7, 8, 9, 10]\n"
     ]
    }
   ],
   "source": [
    "# Function to find the partition position\n",
    "def partition(array, low, high):\n",
    "    # Choose the rightmost element as pivot\n",
    "    pivot = array[high]\n",
    "\n",
    "    # Pointer for greater element\n",
    "    i = low - 1\n",
    "\n",
    "    # Traverse through all elements\n",
    "    # Compare each element with pivot\n",
    "    for j in range(low, high):\n",
    "        if array[j] <= pivot:\n",
    "            # If element smaller than pivot is found\n",
    "            # swap it with the greater element pointed by i\n",
    "            i = i + 1\n",
    "            # Swapping element at i with element at j\n",
    "            array[i], array[j] = array[j], array[i]\n",
    "\n",
    "    # Swap the pivot element with the greater element specified by i\n",
    "    array[i + 1], array[high] = array[high], array[i + 1]\n",
    "\n",
    "    # Return the position from where partition is done\n",
    "    return i + 1\n",
    "\n",
    "# Function to perform quicksort\n",
    "def quickSort(array, low, high):\n",
    "    if low < high:\n",
    "        # Find pivot element such that\n",
    "        # element smaller than pivot are on the left\n",
    "        # element greater than pivot are on the right\n",
    "        pi = partition(array, low, high)\n",
    "\n",
    "        # Recursive call on the left of pivot\n",
    "        quickSort(array, low, pi - 1)\n",
    "\n",
    "        # Recursive call on the right of pivot\n",
    "        quickSort(array, pi + 1, high)\n",
    "    \n",
    "    return array\n",
    "\n",
    "arr = [10, 7, 8, 9, 1, 5]\n",
    "sorted_array = quickSort(arr, 0, len(arr) - 1)\n",
    "print(\"Sorted array:\", sorted_array)\n"
   ]
  },
  {
   "cell_type": "code",
   "execution_count": 8,
   "metadata": {},
   "outputs": [
    {
     "data": {
      "text/plain": [
       "[3, 5, 18, 18, 34, 36, 37, 38, 38, 50, 55, 56, 72, 72, 79, 80, 80, 83, 84, 92]"
      ]
     },
     "execution_count": 8,
     "metadata": {},
     "output_type": "execute_result"
    }
   ],
   "source": [
    "sorted_1d_array = quickSort(one_d_array.copy(), 0, len(one_d_array) - 1)\n",
    "sorted_1d_array"
   ]
  },
  {
   "cell_type": "code",
   "execution_count": 9,
   "metadata": {},
   "outputs": [
    {
     "name": "stdout",
     "output_type": "stream",
     "text": [
      "[16, 19, 27, 44, 53, 59, 75, 77, 85, 91, 11, 21, 25, 35, 40, 69, 77, 89, 94, 96, 9, 14, 38, 51, 65, 66, 70, 75, 85, 88, 2, 13, 25, 46, 47, 50, 55, 81, 85, 94, 11, 22, 24, 26, 41, 57, 62, 74, 79, 98, 12, 15, 23, 57, 68, 78, 81, 82, 86, 89, 22, 29, 37, 60, 77, 78, 81, 83, 86, 86, 11, 13, 14, 20, 22, 39, 53, 74, 85, 85, 45, 45, 46, 55, 55, 56, 65, 65, 68, 75, 11, 12, 16, 52, 54, 58, 67, 69, 90, 97]\n"
     ]
    }
   ],
   "source": [
    "partially_sorted_2d_array = []\n",
    "for i in two_d_array:\n",
    "    sorted_sub_array = quickSort(i, 0, len(i)-1)\n",
    "    for j in sorted_sub_array:\n",
    "        partially_sorted_2d_array.append(j)\n",
    "\n",
    "print(partially_sorted_2d_array)\n",
    "sorted_2d_to_1d_array = quickSort(partially_sorted_2d_array, 0, len(partially_sorted_2d_array) - 1)"
   ]
  },
  {
   "cell_type": "code",
   "execution_count": 10,
   "metadata": {},
   "outputs": [
    {
     "data": {
      "text/plain": [
       "[[2, 9, 11, 11, 11, 11, 12, 12, 13, 13],\n",
       " [14, 14, 15, 16, 16, 19, 20, 21, 22, 22],\n",
       " [22, 23, 24, 25, 25, 26, 27, 29, 35, 37],\n",
       " [38, 39, 40, 41, 44, 45, 45, 46, 46, 47],\n",
       " [50, 51, 52, 53, 53, 54, 55, 55, 55, 56],\n",
       " [57, 57, 58, 59, 60, 62, 65, 65, 65, 66],\n",
       " [67, 68, 68, 69, 69, 70, 74, 74, 75, 75],\n",
       " [75, 77, 77, 77, 78, 78, 79, 81, 81, 81],\n",
       " [82, 83, 85, 85, 85, 85, 85, 86, 86, 86],\n",
       " [88, 89, 89, 90, 91, 94, 94, 96, 97, 98]]"
      ]
     },
     "execution_count": 10,
     "metadata": {},
     "output_type": "execute_result"
    }
   ],
   "source": [
    "sorted_2d_array = []\n",
    "partition_size = size_2d[0]\n",
    "count = 0\n",
    "for i in range(partition_size):\n",
    "    sub_array = []\n",
    "    for j in range(size_2d[1]):\n",
    "        sub_array.append(partially_sorted_2d_array[count])\n",
    "        count+=1\n",
    "    sorted_2d_array.append(sub_array)\n",
    "\n",
    "sorted_2d_array"
   ]
  },
  {
   "cell_type": "markdown",
   "metadata": {},
   "source": [
    "## 4. Perform all arithmetic and statistical operations. Display the results. (Operations should include: min, max, count, sum, mean, median, mode, variance, standard deviation)\n"
   ]
  },
  {
   "cell_type": "code",
   "execution_count": 11,
   "metadata": {},
   "outputs": [
    {
     "name": "stdout",
     "output_type": "stream",
     "text": [
      "Minimum Element : 3\n",
      "Minimum Element : 92\n",
      "\n",
      "{3: 1, 80: 2, 56: 1, 18: 2, 34: 1, 50: 1, 79: 1, 55: 1, 38: 2, 92: 1, 72: 2, 83: 1, 5: 1, 37: 1, 84: 1, 36: 1}\n",
      "\n",
      "Sum of Array : 1030\n",
      "\n",
      "Mean of array : 51.5\n",
      "\n",
      "Median Element : 55\n",
      "\n",
      "Mode : 80\n",
      "\n",
      "Variance : 741.25\n",
      "\n",
      "Stabndard Deviation : 27.225906780123964\n"
     ]
    }
   ],
   "source": [
    "#Min and max\n",
    "min = 101\n",
    "max = -1\n",
    "\n",
    "for i in one_d_array:\n",
    "\n",
    "    if i<min:\n",
    "        min = i\n",
    "\n",
    "    if i>max:\n",
    "        max = i\n",
    "\n",
    "print(f\"Minimum Element : {min}\")\n",
    "print(f\"Minimum Element : {max}\")\n",
    "\n",
    "#Count\n",
    "count_map = {}\n",
    "for i in one_d_array:\n",
    "    if i not in count_map.keys():\n",
    "        count_map[i] = 1\n",
    "    else:\n",
    "        count_map[i] += 1\n",
    "\n",
    "print()\n",
    "print(count_map)\n",
    "\n",
    "# Sum\n",
    "sum = 0\n",
    "for i in one_d_array:\n",
    "    sum += i\n",
    "\n",
    "print()\n",
    "print(f\"Sum of Array : {sum}\")\n",
    "\n",
    "# Mean\n",
    "sum = 0\n",
    "for i in one_d_array:\n",
    "    sum+=i\n",
    "mean = sum / len(one_d_array)\n",
    "\n",
    "print()\n",
    "print(f\"Mean of array : {mean}\")\n",
    "\n",
    "# Median \n",
    "\n",
    "middle_element_index = (len(one_d_array) // 2)\n",
    "print()\n",
    "print(f\"Median Element : {sorted_1d_array[middle_element_index]}\")\n",
    "\n",
    "# Mode\n",
    "highest_count = 0\n",
    "highest_count_key = -1\n",
    "for i in count_map.keys():\n",
    "    if count_map[i] > highest_count:\n",
    "        highest_count = count_map[i]\n",
    "        highest_count_key = i\n",
    "\n",
    "print()\n",
    "print(f\"Mode : {highest_count_key}\")\n",
    "\n",
    "# Variance\n",
    "sum = 0\n",
    "for i in one_d_array:\n",
    "    sum += (i - mean)**2\n",
    "variance = sum / len(one_d_array)\n",
    "\n",
    "print()\n",
    "print(f\"Variance : {variance}\")\n",
    "\n",
    "# Standard Deviation\n",
    "sd = variance**(1/2)\n",
    "\n",
    "print()\n",
    "print(f\"Stabndard Deviation : {sd}\")"
   ]
  },
  {
   "cell_type": "code",
   "execution_count": 12,
   "metadata": {},
   "outputs": [
    {
     "name": "stdout",
     "output_type": "stream",
     "text": [
      "Column 0 -> Minimum Element : 2, Maximum Element : 45\n",
      "Column 1 -> Minimum Element : 12, Maximum Element : 45\n",
      "Column 2 -> Minimum Element : 14, Maximum Element : 46\n",
      "Column 3 -> Minimum Element : 20, Maximum Element : 60\n",
      "Column 4 -> Minimum Element : 22, Maximum Element : 77\n",
      "Column 5 -> Minimum Element : 39, Maximum Element : 78\n",
      "Column 6 -> Minimum Element : 53, Maximum Element : 81\n",
      "Column 7 -> Minimum Element : 65, Maximum Element : 89\n",
      "Column 8 -> Minimum Element : 68, Maximum Element : 94\n",
      "Column 9 -> Minimum Element : 75, Maximum Element : 98\n",
      "\n",
      "Column 0 -> Count Map: {16: 1, 11: 4, 9: 1, 2: 1, 12: 1, 22: 1, 45: 1}\n",
      "\n",
      "Column 1 -> Count Map: {19: 1, 21: 1, 14: 1, 13: 2, 22: 1, 15: 1, 29: 1, 45: 1, 12: 1}\n",
      "\n",
      "Column 2 -> Count Map: {27: 1, 25: 2, 38: 1, 24: 1, 23: 1, 37: 1, 14: 1, 46: 1, 16: 1}\n",
      "\n",
      "Column 3 -> Count Map: {44: 1, 35: 1, 51: 1, 46: 1, 26: 1, 57: 1, 60: 1, 20: 1, 55: 1, 52: 1}\n",
      "\n",
      "Column 4 -> Count Map: {53: 1, 40: 1, 65: 1, 47: 1, 41: 1, 68: 1, 77: 1, 22: 1, 55: 1, 54: 1}\n",
      "\n",
      "Column 5 -> Count Map: {59: 1, 69: 1, 66: 1, 50: 1, 57: 1, 78: 2, 39: 1, 56: 1, 58: 1}\n",
      "\n",
      "Column 6 -> Count Map: {75: 1, 77: 1, 70: 1, 55: 1, 62: 1, 81: 2, 53: 1, 65: 1, 67: 1}\n",
      "\n",
      "Column 7 -> Count Map: {77: 1, 89: 1, 75: 1, 81: 1, 74: 2, 82: 1, 83: 1, 65: 1, 69: 1}\n",
      "\n",
      "Column 8 -> Count Map: {85: 4, 94: 1, 79: 1, 86: 2, 68: 1, 90: 1}\n",
      "\n",
      "Column 9 -> Count Map: {91: 1, 96: 1, 88: 1, 94: 1, 98: 1, 89: 1, 86: 1, 85: 1, 75: 1, 97: 1}\n",
      "\n",
      "Column 0 -> Sum: 150\n",
      "\n",
      "Column 1 -> Sum: 203\n",
      "\n",
      "Column 2 -> Sum: 275\n",
      "\n",
      "Column 3 -> Sum: 446\n",
      "\n",
      "Column 4 -> Sum: 522\n",
      "\n",
      "Column 5 -> Sum: 610\n",
      "\n",
      "Column 6 -> Sum: 686\n",
      "\n",
      "Column 7 -> Sum: 769\n",
      "\n",
      "Column 8 -> Sum: 843\n",
      "\n",
      "Column 9 -> Sum: 899\n",
      "\n",
      "Column 0 -> Mean: 15.0\n",
      "\n",
      "Column 1 -> Mean: 20.3\n",
      "\n",
      "Column 2 -> Mean: 27.5\n",
      "\n",
      "Column 3 -> Mean: 44.6\n",
      "\n",
      "Column 4 -> Mean: 52.2\n",
      "\n",
      "Column 5 -> Mean: 61.0\n",
      "\n",
      "Column 6 -> Mean: 68.6\n",
      "\n",
      "Column 7 -> Mean: 76.9\n",
      "\n",
      "Column 8 -> Mean: 84.3\n",
      "\n",
      "Column 9 -> Mean: 89.9\n",
      "\n",
      "Column 0 -> Median: 11.0\n",
      "\n",
      "Column 1 -> Median: 17.0\n",
      "\n",
      "Column 2 -> Median: 25.0\n",
      "\n",
      "Column 3 -> Median: 48.5\n",
      "\n",
      "Column 4 -> Median: 53.5\n",
      "\n",
      "Column 5 -> Median: 58.5\n",
      "\n",
      "Column 6 -> Median: 68.5\n",
      "\n",
      "Column 7 -> Median: 76.0\n",
      "\n",
      "Column 8 -> Median: 85.0\n",
      "\n",
      "Column 9 -> Median: 90.0\n",
      "\n",
      "Column 0 -> Mode: 11\n",
      "\n",
      "Column 1 -> Mode: 13\n",
      "\n",
      "Column 2 -> Mode: 25\n",
      "\n",
      "Column 3 -> Mode: 44\n",
      "\n",
      "Column 4 -> Mode: 53\n",
      "\n",
      "Column 5 -> Mode: 78\n",
      "\n",
      "Column 6 -> Mode: 81\n",
      "\n",
      "Column 7 -> Mode: 74\n",
      "\n",
      "Column 8 -> Mode: 85\n",
      "\n",
      "Column 9 -> Mode: 91\n",
      "\n",
      "Column 0 -> Variance: 122.8\n",
      "\n",
      "Column 1 -> Variance: 93.41\n",
      "\n",
      "Column 2 -> Variance: 90.25\n",
      "\n",
      "Column 3 -> Variance: 164.04\n",
      "\n",
      "Column 4 -> Variance: 225.35999999999999\n",
      "\n",
      "Column 5 -> Variance: 132.6\n",
      "\n",
      "Column 6 -> Variance: 90.83999999999999\n",
      "\n",
      "Column 7 -> Variance: 45.08999999999999\n",
      "\n",
      "Column 8 -> Variance: 42.81\n",
      "\n",
      "Column 9 -> Variance: 43.69\n",
      "\n",
      "Column 0 -> Standard Deviation: 11.081516141756055\n",
      "\n",
      "Column 1 -> Standard Deviation: 9.664884893261792\n",
      "\n",
      "Column 2 -> Standard Deviation: 9.5\n",
      "\n",
      "Column 3 -> Standard Deviation: 12.807810117268291\n",
      "\n",
      "Column 4 -> Standard Deviation: 15.011995203836165\n",
      "\n",
      "Column 5 -> Standard Deviation: 11.515207336387824\n",
      "\n",
      "Column 6 -> Standard Deviation: 9.531002045955084\n",
      "\n",
      "Column 7 -> Standard Deviation: 6.714908785679817\n",
      "\n",
      "Column 8 -> Standard Deviation: 6.542935121182236\n",
      "\n",
      "Column 9 -> Standard Deviation: 6.609841147864296\n"
     ]
    }
   ],
   "source": [
    "# Assuming 'two_d_array' is a 2D list where each inner list represents a row in the matrix\n",
    "\n",
    "# Number of rows and columns in the 2D array\n",
    "rows = len(two_d_array)\n",
    "cols = len(two_d_array[0])\n",
    "\n",
    "# Min and Max for each column\n",
    "for col in range(cols):\n",
    "    min_val = float('inf')\n",
    "    max_val = float('-inf')\n",
    "    \n",
    "    for row in range(rows):\n",
    "        value = two_d_array[row][col]\n",
    "        \n",
    "        if value < min_val:\n",
    "            min_val = value\n",
    "            \n",
    "        if value > max_val:\n",
    "            max_val = value\n",
    "    \n",
    "    print(f\"Column {col} -> Minimum Element : {min_val}, Maximum Element : {max_val}\")\n",
    "\n",
    "# Count for each column\n",
    "for col in range(cols):\n",
    "    count_map = {}\n",
    "    \n",
    "    for row in range(rows):\n",
    "        value = two_d_array[row][col]\n",
    "        \n",
    "        if value not in count_map:\n",
    "            count_map[value] = 1\n",
    "        else:\n",
    "            count_map[value] += 1\n",
    "    \n",
    "    print(f\"\\nColumn {col} -> Count Map: {count_map}\")\n",
    "\n",
    "# Sum for each column\n",
    "for col in range(cols):\n",
    "    column_sum = 0\n",
    "    \n",
    "    for row in range(rows):\n",
    "        column_sum += two_d_array[row][col]\n",
    "    \n",
    "    print(f\"\\nColumn {col} -> Sum: {column_sum}\")\n",
    "\n",
    "# Mean for each column\n",
    "for col in range(cols):\n",
    "    column_sum = 0\n",
    "    \n",
    "    for row in range(rows):\n",
    "        column_sum += two_d_array[row][col]\n",
    "    \n",
    "    column_mean = column_sum / rows\n",
    "    print(f\"\\nColumn {col} -> Mean: {column_mean}\")\n",
    "\n",
    "# Median for each column\n",
    "for col in range(cols):\n",
    "    column_values = [two_d_array[row][col] for row in range(rows)]\n",
    "    sorted_column = quickSort(column_values, 0, len(column_values) - 1)\n",
    "    middle_index = rows // 2\n",
    "    \n",
    "    if rows % 2 == 0:\n",
    "        median = (sorted_column[middle_index - 1] + sorted_column[middle_index]) / 2\n",
    "    else:\n",
    "        median = sorted_column[middle_index]\n",
    "    \n",
    "    print(f\"\\nColumn {col} -> Median: {median}\")\n",
    "\n",
    "# Mode for each column\n",
    "for col in range(cols):\n",
    "    count_map = {}\n",
    "    \n",
    "    for row in range(rows):\n",
    "        value = two_d_array[row][col]\n",
    "        \n",
    "        if value not in count_map:\n",
    "            count_map[value] = 1\n",
    "        else:\n",
    "            count_map[value] += 1\n",
    "    \n",
    "    highest_count = 0\n",
    "    mode_value = None\n",
    "    \n",
    "    for key, count in count_map.items():\n",
    "        if count > highest_count:\n",
    "            highest_count = count\n",
    "            mode_value = key\n",
    "    \n",
    "    print(f\"\\nColumn {col} -> Mode: {mode_value}\")\n",
    "\n",
    "# Variance for each column\n",
    "for col in range(cols):\n",
    "    column_sum = 0\n",
    "    \n",
    "    for row in range(rows):\n",
    "        column_sum += two_d_array[row][col]\n",
    "    \n",
    "    column_mean = column_sum / rows\n",
    "    variance_sum = 0\n",
    "    \n",
    "    for row in range(rows):\n",
    "        variance_sum += (two_d_array[row][col] - column_mean) ** 2\n",
    "    \n",
    "    variance = variance_sum / rows\n",
    "    print(f\"\\nColumn {col} -> Variance: {variance}\")\n",
    "\n",
    "# Standard Deviation for each column\n",
    "for col in range(cols):\n",
    "    column_sum = 0\n",
    "    \n",
    "    for row in range(rows):\n",
    "        column_sum += two_d_array[row][col]\n",
    "    \n",
    "    column_mean = column_sum / rows\n",
    "    variance_sum = 0\n",
    "    \n",
    "    for row in range(rows):\n",
    "        variance_sum += (two_d_array[row][col] - column_mean) ** 2\n",
    "    \n",
    "    variance = variance_sum / rows\n",
    "    standard_deviation = variance ** 0.5\n",
    "    \n",
    "    print(f\"\\nColumn {col} -> Standard Deviation: {standard_deviation}\")\n"
   ]
  }
 ],
 "metadata": {
  "kernelspec": {
   "display_name": "Python 3",
   "language": "python",
   "name": "python3"
  },
  "language_info": {
   "codemirror_mode": {
    "name": "ipython",
    "version": 3
   },
   "file_extension": ".py",
   "mimetype": "text/x-python",
   "name": "python",
   "nbconvert_exporter": "python",
   "pygments_lexer": "ipython3",
   "version": "3.12.2"
  }
 },
 "nbformat": 4,
 "nbformat_minor": 2
}
